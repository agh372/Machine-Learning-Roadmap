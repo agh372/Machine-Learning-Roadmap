{
 "cells": [
  {
   "cell_type": "code",
   "execution_count": 46,
   "metadata": {},
   "outputs": [],
   "source": [
    "\n",
    "import math\n",
    "\n",
    "class Vector(object):\n",
    "    def __init__(self, coordinates):\n",
    "        try:\n",
    "            if not coordinates:\n",
    "                raise ValueError\n",
    "            self.coordinates = tuple(coordinates)\n",
    "            self.dimension = len(coordinates)\n",
    "\n",
    "        except ValueError:\n",
    "            raise ValueError('The coordinates must be nonempty')\n",
    "\n",
    "        except TypeError:\n",
    "            raise TypeError('The coordinates must be an iterable')\n",
    "\n",
    "\n",
    "    def __str__(self):\n",
    "        return 'Vector: {}'.format(self.coordinates)\n",
    "\n",
    "    def __iter__(self):\n",
    "        return iter(self.coordinates)\n",
    "\n",
    "    def __getitem__(self,index):\n",
    "        return self.coordinates[index]\n",
    "\n",
    "    def __eq__(self, v):\n",
    "        return self.coordinates == v.coordinates\n",
    "\n",
    "    def __add__(self, v):\n",
    "        result = [x+y for x, y in zip(self.coordinates, v.coordinates)]\n",
    "        return Vector(result)\n",
    "    \n",
    "    def __sub__(self, v):\n",
    "        result = [x-y for x, y in zip(self.coordinates, v.coordinates)]\n",
    "        return Vector(result)\n",
    "    \n",
    "    def __mul__(self, v):\n",
    "        if isinstance(v, Vector):\n",
    "            result = [x*y for x, y in zip(self.coordinates, v.coordinates)]\n",
    "            return sum(result)\n",
    "        else:\n",
    "            return Vector([x*v for x in self.coordinates])\n",
    "\n",
    "    def norm(self):\n",
    "        result = [x*x for x in self.coordinates]\n",
    "        result = sum(result)\n",
    "        return math.sqrt(result)\n",
    "\n",
    "    def unit(self):\n",
    "        return self * self.norm()\n",
    "\n",
    "    def angle(self, v):\n",
    "        dotValue = self * v\n",
    "        norm1 = self.norm()\n",
    "        norm2 = v.norm()\n",
    "        return math.acos(dotValue / (norm1*norm2))\n",
    "\n",
    "    def proj(self, v):\n",
    "        v = v * (1.0 / v.norm())\n",
    "        return v * (v * self)\n",
    "\n",
    "    def is_parallel(self, v):\n",
    "        if v == Vector([0] * v.dimension):\n",
    "            return True\n",
    "        else:\n",
    "            items = [x / y for x, y in zip(self.coordinates, v.coordinates)]\n",
    "            return all([abs(items[0] - item) < 1e-10 for item in items])\n",
    "\n",
    "    def is_orthogonal(self, v):\n",
    "        return abs(self * v) < 1e-10"
   ]
  },
  {
   "cell_type": "code",
   "execution_count": 47,
   "metadata": {},
   "outputs": [],
   "source": [
    "vec = Vector([1,2])"
   ]
  },
  {
   "cell_type": "code",
   "execution_count": 48,
   "metadata": {},
   "outputs": [
    {
     "data": {
      "text/plain": [
       "(1, 2)"
      ]
     },
     "execution_count": 48,
     "metadata": {},
     "output_type": "execute_result"
    }
   ],
   "source": [
    "vec.coordinates"
   ]
  },
  {
   "cell_type": "code",
   "execution_count": 49,
   "metadata": {},
   "outputs": [
    {
     "data": {
      "text/plain": [
       "'Vector: (1, 2)'"
      ]
     },
     "execution_count": 49,
     "metadata": {},
     "output_type": "execute_result"
    }
   ],
   "source": [
    "str(vec)"
   ]
  },
  {
   "cell_type": "code",
   "execution_count": 50,
   "metadata": {},
   "outputs": [
    {
     "data": {
      "text/plain": [
       "(2, 4)"
      ]
     },
     "execution_count": 50,
     "metadata": {},
     "output_type": "execute_result"
    }
   ],
   "source": [
    "two = Vector([1,2,3])\n",
    "(two + vec).coordinates"
   ]
  },
  {
   "cell_type": "code",
   "execution_count": 51,
   "metadata": {},
   "outputs": [
    {
     "ename": "NameError",
     "evalue": "name 'is_parallel' is not defined",
     "output_type": "error",
     "traceback": [
      "\u001b[0;31m---------------------------------------------------------------------------\u001b[0m",
      "\u001b[0;31mNameError\u001b[0m                                 Traceback (most recent call last)",
      "\u001b[0;32m<ipython-input-51-05081887b26c>\u001b[0m in \u001b[0;36m<module>\u001b[0;34m()\u001b[0m\n\u001b[0;32m----> 1\u001b[0;31m \u001b[0mis_parallel\u001b[0m\u001b[0;34m(\u001b[0m\u001b[0mvec\u001b[0m\u001b[0;34m,\u001b[0m\u001b[0;34m[\u001b[0m\u001b[0;36m2\u001b[0m\u001b[0;34m,\u001b[0m\u001b[0;36m4\u001b[0m\u001b[0;34m]\u001b[0m\u001b[0;34m)\u001b[0m\u001b[0;34m\u001b[0m\u001b[0m\n\u001b[0m",
      "\u001b[0;31mNameError\u001b[0m: name 'is_parallel' is not defined"
     ]
    }
   ],
   "source": [
    "is_parallel(vec,[2,4])"
   ]
  },
  {
   "cell_type": "code",
   "execution_count": null,
   "metadata": {},
   "outputs": [],
   "source": []
  },
  {
   "cell_type": "code",
   "execution_count": null,
   "metadata": {},
   "outputs": [],
   "source": []
  },
  {
   "cell_type": "code",
   "execution_count": null,
   "metadata": {},
   "outputs": [],
   "source": []
  }
 ],
 "metadata": {
  "kernelspec": {
   "display_name": "Python 2",
   "language": "python",
   "name": "python2"
  },
  "language_info": {
   "codemirror_mode": {
    "name": "ipython",
    "version": 2
   },
   "file_extension": ".py",
   "mimetype": "text/x-python",
   "name": "python",
   "nbconvert_exporter": "python",
   "pygments_lexer": "ipython2",
   "version": "2.7.14"
  }
 },
 "nbformat": 4,
 "nbformat_minor": 2
}
